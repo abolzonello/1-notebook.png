{
 "cells": [
  {
   "cell_type": "code",
   "execution_count": 1,
   "id": "fcb12ca8",
   "metadata": {},
   "outputs": [],
   "source": [
    "import pandas as pd\n"
   ]
  },
  {
   "cell_type": "code",
   "execution_count": 3,
   "id": "490a565e",
   "metadata": {},
   "outputs": [],
   "source": [
    "import pandas as pd\n",
    "\n",
    "ERP_df = pd.read_csv(\"Copy of 411012-00491 - ERM report 230817.csv\")\n",
    "WOAR_df = pd.read_csv(\"Work Order Line Details.csv\")\n"
   ]
  },
  {
   "cell_type": "code",
   "execution_count": 12,
   "id": "e0fd3ffc",
   "metadata": {},
   "outputs": [],
   "source": [
    "import pandas as pd\n",
    "\n",
    "WOAR2_df = pd.read_csv(\"Work Order Line Details (2).csv\")\n",
    "\n",
    "pd.set_option('display.max_columns', None)\n"
   ]
  },
  {
   "cell_type": "code",
   "execution_count": 14,
   "id": "7efa07ac",
   "metadata": {},
   "outputs": [],
   "source": [
    "ERP_df = ERP_df.add_prefix('ERP_')\n",
    "WOAR2_df = WOAR_df.add_prefix('WOAR_')"
   ]
  },
  {
   "cell_type": "code",
   "execution_count": 21,
   "id": "73316be1",
   "metadata": {},
   "outputs": [],
   "source": [
    "concat_df = concatenated_df = pd.concat([ERP_df, WOAR2_df], axis=0)\n",
    "\n"
   ]
  },
  {
   "cell_type": "code",
   "execution_count": 24,
   "id": "1a1f0f53",
   "metadata": {},
   "outputs": [
    {
     "ename": "SyntaxError",
     "evalue": "invalid syntax (2154364501.py, line 4)",
     "output_type": "error",
     "traceback": [
      "\u001b[1;36m  Cell \u001b[1;32mIn[24], line 4\u001b[1;36m\u001b[0m\n\u001b[1;33m    if WOAR_WOAR_WO Start Date - WOAR_WOAR_PO Delivery Date >=30:\u001b[0m\n\u001b[1;37m                    ^\u001b[0m\n\u001b[1;31mSyntaxError\u001b[0m\u001b[1;31m:\u001b[0m invalid syntax\n"
     ]
    }
   ],
   "source": [
    "WOAR2_df\n",
    "\n",
    "def status(delivery):\n",
    "    if WOAR_WOAR_WO Start Date - WOAR_WOAR_PO Delivery Date >=30:\n",
    "        return '10: PO on time'\n",
    "    \n",
    "    df['Status'] = df['delivery'].apply(Status)\n",
    "    \n",
    "    print(WOAR2_df)"
   ]
  },
  {
   "cell_type": "code",
   "execution_count": null,
   "id": "fc2b2693",
   "metadata": {},
   "outputs": [],
   "source": []
  }
 ],
 "metadata": {
  "kernelspec": {
   "display_name": "Python 3 (ipykernel)",
   "language": "python",
   "name": "python3"
  },
  "language_info": {
   "codemirror_mode": {
    "name": "ipython",
    "version": 3
   },
   "file_extension": ".py",
   "mimetype": "text/x-python",
   "name": "python",
   "nbconvert_exporter": "python",
   "pygments_lexer": "ipython3",
   "version": "3.11.4"
  }
 },
 "nbformat": 4,
 "nbformat_minor": 5
}
